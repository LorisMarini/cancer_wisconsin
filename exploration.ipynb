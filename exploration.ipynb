{
 "cells": [
  {
   "cell_type": "code",
   "execution_count": 1,
   "metadata": {},
   "outputs": [
    {
     "data": {
      "text/html": [
       "<style>.container { width:85% !important; }</style>"
      ],
      "text/plain": [
       "<IPython.core.display.HTML object>"
      ]
     },
     "metadata": {},
     "output_type": "display_data"
    }
   ],
   "source": [
    "from libraries import * \n",
    "%run -i configuration.py\n",
    "%matplotlib inline\n",
    "%config InlineBackend.figure_format = 'retina'"
   ]
  },
  {
   "cell_type": "markdown",
   "metadata": {},
   "source": [
    "## Import Data"
   ]
  },
  {
   "cell_type": "code",
   "execution_count": 5,
   "metadata": {
    "scrolled": true
   },
   "outputs": [],
   "source": [
    "features = [\"clump_thickness\", \"uniformity_cell_size\", \n",
    "           \"uniformity_cell_shape\", \"marginal_adhesion\",\n",
    "           \"single_epithelial_cell_size\", \"bare_nuclei\", \n",
    "           \"bland_chromatin\", \"normal_nucleoli\", \"mitoses\"]\n",
    "\n",
    "columns = [\"id\"] + features + [\"class\"]\n",
    "\n",
    "# Read data\n",
    "dataset = pd.read_csv(\"./data/breast-cancer-wisconsin.data\", header=0, names=columns)"
   ]
  },
  {
   "cell_type": "markdown",
   "metadata": {},
   "source": [
    "## Rename and Clean"
   ]
  },
  {
   "cell_type": "code",
   "execution_count": 6,
   "metadata": {},
   "outputs": [],
   "source": [
    "# Rename the class column as \"malignant\"\n",
    "dataset = dataset.rename(columns={\"class\":\"malignant\"})\n",
    "\n",
    "# Transform malignant column into a boolean 0,1 variable\n",
    "dataset[\"malignant\"].replace(to_replace={2:0, 4:1}, inplace=True)"
   ]
  },
  {
   "cell_type": "code",
   "execution_count": 7,
   "metadata": {},
   "outputs": [
    {
     "data": {
      "text/html": [
       "<div>\n",
       "<style scoped>\n",
       "    .dataframe tbody tr th:only-of-type {\n",
       "        vertical-align: middle;\n",
       "    }\n",
       "\n",
       "    .dataframe tbody tr th {\n",
       "        vertical-align: top;\n",
       "    }\n",
       "\n",
       "    .dataframe thead th {\n",
       "        text-align: right;\n",
       "    }\n",
       "</style>\n",
       "<table border=\"1\" class=\"dataframe\">\n",
       "  <thead>\n",
       "    <tr style=\"text-align: right;\">\n",
       "      <th></th>\n",
       "      <th>id</th>\n",
       "      <th>clump_thickness</th>\n",
       "      <th>uniformity_cell_size</th>\n",
       "      <th>uniformity_cell_shape</th>\n",
       "      <th>marginal_adhesion</th>\n",
       "      <th>single_epithelial_cell_size</th>\n",
       "      <th>bland_chromatin</th>\n",
       "      <th>normal_nucleoli</th>\n",
       "      <th>mitoses</th>\n",
       "      <th>malignant</th>\n",
       "    </tr>\n",
       "  </thead>\n",
       "  <tbody>\n",
       "    <tr>\n",
       "      <th>count</th>\n",
       "      <td>698.000</td>\n",
       "      <td>698.000</td>\n",
       "      <td>698.000</td>\n",
       "      <td>698.000</td>\n",
       "      <td>698.000</td>\n",
       "      <td>698.000</td>\n",
       "      <td>698.000</td>\n",
       "      <td>698.000</td>\n",
       "      <td>698.000</td>\n",
       "      <td>698.000</td>\n",
       "    </tr>\n",
       "    <tr>\n",
       "      <th>mean</th>\n",
       "      <td>1071806.791</td>\n",
       "      <td>4.417</td>\n",
       "      <td>3.138</td>\n",
       "      <td>3.211</td>\n",
       "      <td>2.809</td>\n",
       "      <td>3.218</td>\n",
       "      <td>3.438</td>\n",
       "      <td>2.870</td>\n",
       "      <td>1.590</td>\n",
       "      <td>0.345</td>\n",
       "    </tr>\n",
       "    <tr>\n",
       "      <th>std</th>\n",
       "      <td>617532.274</td>\n",
       "      <td>2.818</td>\n",
       "      <td>3.053</td>\n",
       "      <td>2.973</td>\n",
       "      <td>2.857</td>\n",
       "      <td>2.215</td>\n",
       "      <td>2.440</td>\n",
       "      <td>3.055</td>\n",
       "      <td>1.716</td>\n",
       "      <td>0.476</td>\n",
       "    </tr>\n",
       "    <tr>\n",
       "      <th>min</th>\n",
       "      <td>61634.000</td>\n",
       "      <td>1.000</td>\n",
       "      <td>1.000</td>\n",
       "      <td>1.000</td>\n",
       "      <td>1.000</td>\n",
       "      <td>1.000</td>\n",
       "      <td>1.000</td>\n",
       "      <td>1.000</td>\n",
       "      <td>1.000</td>\n",
       "      <td>0.000</td>\n",
       "    </tr>\n",
       "    <tr>\n",
       "      <th>25%</th>\n",
       "      <td>870258.250</td>\n",
       "      <td>2.000</td>\n",
       "      <td>1.000</td>\n",
       "      <td>1.000</td>\n",
       "      <td>1.000</td>\n",
       "      <td>2.000</td>\n",
       "      <td>2.000</td>\n",
       "      <td>1.000</td>\n",
       "      <td>1.000</td>\n",
       "      <td>0.000</td>\n",
       "    </tr>\n",
       "    <tr>\n",
       "      <th>50%</th>\n",
       "      <td>1171710.000</td>\n",
       "      <td>4.000</td>\n",
       "      <td>1.000</td>\n",
       "      <td>1.000</td>\n",
       "      <td>1.000</td>\n",
       "      <td>2.000</td>\n",
       "      <td>3.000</td>\n",
       "      <td>1.000</td>\n",
       "      <td>1.000</td>\n",
       "      <td>0.000</td>\n",
       "    </tr>\n",
       "    <tr>\n",
       "      <th>75%</th>\n",
       "      <td>1238354.000</td>\n",
       "      <td>6.000</td>\n",
       "      <td>5.000</td>\n",
       "      <td>5.000</td>\n",
       "      <td>4.000</td>\n",
       "      <td>4.000</td>\n",
       "      <td>5.000</td>\n",
       "      <td>4.000</td>\n",
       "      <td>1.000</td>\n",
       "      <td>1.000</td>\n",
       "    </tr>\n",
       "    <tr>\n",
       "      <th>max</th>\n",
       "      <td>13454352.000</td>\n",
       "      <td>10.000</td>\n",
       "      <td>10.000</td>\n",
       "      <td>10.000</td>\n",
       "      <td>10.000</td>\n",
       "      <td>10.000</td>\n",
       "      <td>10.000</td>\n",
       "      <td>10.000</td>\n",
       "      <td>10.000</td>\n",
       "      <td>1.000</td>\n",
       "    </tr>\n",
       "  </tbody>\n",
       "</table>\n",
       "</div>"
      ],
      "text/plain": [
       "                id  clump_thickness  uniformity_cell_size  \\\n",
       "count      698.000          698.000               698.000   \n",
       "mean   1071806.791            4.417                 3.138   \n",
       "std     617532.274            2.818                 3.053   \n",
       "min      61634.000            1.000                 1.000   \n",
       "25%     870258.250            2.000                 1.000   \n",
       "50%    1171710.000            4.000                 1.000   \n",
       "75%    1238354.000            6.000                 5.000   \n",
       "max   13454352.000           10.000                10.000   \n",
       "\n",
       "       uniformity_cell_shape  marginal_adhesion  single_epithelial_cell_size  \\\n",
       "count                698.000            698.000                      698.000   \n",
       "mean                   3.211              2.809                        3.218   \n",
       "std                    2.973              2.857                        2.215   \n",
       "min                    1.000              1.000                        1.000   \n",
       "25%                    1.000              1.000                        2.000   \n",
       "50%                    1.000              1.000                        2.000   \n",
       "75%                    5.000              4.000                        4.000   \n",
       "max                   10.000             10.000                       10.000   \n",
       "\n",
       "       bland_chromatin  normal_nucleoli  mitoses  malignant  \n",
       "count          698.000          698.000  698.000    698.000  \n",
       "mean             3.438            2.870    1.590      0.345  \n",
       "std              2.440            3.055    1.716      0.476  \n",
       "min              1.000            1.000    1.000      0.000  \n",
       "25%              2.000            1.000    1.000      0.000  \n",
       "50%              3.000            1.000    1.000      0.000  \n",
       "75%              5.000            4.000    1.000      1.000  \n",
       "max             10.000           10.000   10.000      1.000  "
      ]
     },
     "execution_count": 7,
     "metadata": {},
     "output_type": "execute_result"
    }
   ],
   "source": [
    "dataset.describe()"
   ]
  },
  {
   "cell_type": "code",
   "execution_count": 8,
   "metadata": {},
   "outputs": [
    {
     "name": "stdout",
     "output_type": "stream",
     "text": [
      "clump_thickness -> [ 5  3  6  4  8  1  2  7 10  9]\n",
      "uniformity_cell_size -> [ 4  1  8 10  2  3  7  5  6  9]\n",
      "uniformity_cell_shape -> [ 4  1  8 10  2  3  5  6  7  9]\n",
      "marginal_adhesion -> [ 5  1  3  8 10  4  6  2  9  7]\n",
      "single_epithelial_cell_size -> [ 7  2  3  1  6  4  5  8 10  9]\n",
      "bare_nuclei -> ['10' '2' '4' '1' '3' '9' '7' '?' '5' '8' '6']\n",
      "bland_chromatin -> [ 3  9  1  2  4  5  7  8  6 10]\n",
      "normal_nucleoli -> [ 2  1  7  4  5  3 10  6  9  8]\n",
      "mitoses -> [ 1  5  4  2  3  7 10  8  6]\n"
     ]
    },
    {
     "data": {
      "text/plain": [
       "'many real world datasets contain missing values, often encoded as blanks, \\nNaNs or other placeholders. These are incompatible with scikit-learn estimators \\nwhich assume that all values in an array are numerical, and that all have and hold meaning.'"
      ]
     },
     "execution_count": 8,
     "metadata": {},
     "output_type": "execute_result"
    },
    {
     "data": {
      "text/plain": [
       "id                              0\n",
       "clump_thickness                 0\n",
       "uniformity_cell_size            0\n",
       "uniformity_cell_shape           0\n",
       "marginal_adhesion               0\n",
       "single_epithelial_cell_size     0\n",
       "bare_nuclei                    16\n",
       "bland_chromatin                 0\n",
       "normal_nucleoli                 0\n",
       "mitoses                         0\n",
       "malignant                       0\n",
       "dtype: int64"
      ]
     },
     "execution_count": 8,
     "metadata": {},
     "output_type": "execute_result"
    }
   ],
   "source": [
    "# Inspect all unique values\n",
    "for col in features:\n",
    "    print(f\"{col} -> {dataset[col].unique()}\")\n",
    "    \n",
    "# we see that \"bare_nuclei\" contains question marks. we'll replace \"?\" with np.nan\n",
    "dataset[\"bare_nuclei\"] = dataset[\"bare_nuclei\"].replace(to_replace={\"?\":np.nan})\n",
    "\n",
    "#we then drop all rows with missing values\n",
    "# https://scikit-learn.org/stable/modules/impute.html\n",
    "\"\"\"many real world datasets contain missing values, often encoded as blanks, \n",
    "NaNs or other placeholders. These are incompatible with scikit-learn estimators \n",
    "which assume that all values in an array are numerical, and that all have and hold meaning.\"\"\"\n",
    "\n",
    "# Count null values in each feature (16 found in bare_nuclei)\n",
    "dataset.isnull().sum(axis=0)\n",
    "\n",
    "# Drop nan\n",
    "dataset = dataset.dropna()"
   ]
  },
  {
   "cell_type": "markdown",
   "metadata": {},
   "source": [
    "## Save Cleaned Dtaset"
   ]
  },
  {
   "cell_type": "code",
   "execution_count": 14,
   "metadata": {},
   "outputs": [],
   "source": [
    "dataset = dataset.set_index(\"id\")\n",
    "dataset.to_csv(\"./data/breast-cancer-wisconsin-cleaned.csv\")"
   ]
  },
  {
   "cell_type": "code",
   "execution_count": null,
   "metadata": {},
   "outputs": [],
   "source": []
  }
 ],
 "metadata": {
  "kernelspec": {
   "display_name": "Python 3",
   "language": "python",
   "name": "python3"
  },
  "language_info": {
   "codemirror_mode": {
    "name": "ipython",
    "version": 3
   },
   "file_extension": ".py",
   "mimetype": "text/x-python",
   "name": "python",
   "nbconvert_exporter": "python",
   "pygments_lexer": "ipython3",
   "version": "3.7.7"
  }
 },
 "nbformat": 4,
 "nbformat_minor": 4
}
