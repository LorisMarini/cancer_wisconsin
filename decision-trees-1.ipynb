{
 "cells": [
  {
   "cell_type": "markdown",
   "metadata": {},
   "source": [
    "## Cancer prediction with a Decision-Tree Classifier"
   ]
  },
  {
   "cell_type": "code",
   "execution_count": 7,
   "metadata": {},
   "outputs": [
    {
     "name": "stdout",
     "output_type": "stream",
     "text": [
      "The autoreload extension is already loaded. To reload it, use:\n",
      "  %reload_ext autoreload\n"
     ]
    },
    {
     "data": {
      "text/html": [
       "<style>.container { width:85% !important; }</style>"
      ],
      "text/plain": [
       "<IPython.core.display.HTML object>"
      ]
     },
     "metadata": {},
     "output_type": "display_data"
    }
   ],
   "source": [
    "from dependencies import *\n",
    "from utils import learn_tree\n",
    "\n",
    "%load_ext autoreload\n",
    "%autoreload 2\n",
    "%matplotlib inline\n",
    "%config InlineBackend.figure_format = 'retina'\n",
    "\n",
    "# Configure the environment\n",
    "%run envconfig.py"
   ]
  },
  {
   "cell_type": "markdown",
   "metadata": {},
   "source": [
    "## Import Cleaned Data"
   ]
  },
  {
   "cell_type": "code",
   "execution_count": 8,
   "metadata": {},
   "outputs": [
    {
     "data": {
      "text/html": [
       "<div>\n",
       "<style scoped>\n",
       "    .dataframe tbody tr th:only-of-type {\n",
       "        vertical-align: middle;\n",
       "    }\n",
       "\n",
       "    .dataframe tbody tr th {\n",
       "        vertical-align: top;\n",
       "    }\n",
       "\n",
       "    .dataframe thead th {\n",
       "        text-align: right;\n",
       "    }\n",
       "</style>\n",
       "<table border=\"1\" class=\"dataframe\">\n",
       "  <thead>\n",
       "    <tr style=\"text-align: right;\">\n",
       "      <th></th>\n",
       "      <th>id</th>\n",
       "      <th>clump_thickness</th>\n",
       "      <th>uniformity_cell_size</th>\n",
       "      <th>uniformity_cell_shape</th>\n",
       "      <th>marginal_adhesion</th>\n",
       "      <th>single_epithelial_cell_size</th>\n",
       "      <th>bare_nuclei</th>\n",
       "      <th>bland_chromatin</th>\n",
       "      <th>normal_nucleoli</th>\n",
       "      <th>mitoses</th>\n",
       "      <th>malignant</th>\n",
       "    </tr>\n",
       "  </thead>\n",
       "  <tbody>\n",
       "    <tr>\n",
       "      <th>0</th>\n",
       "      <td>1002945</td>\n",
       "      <td>5</td>\n",
       "      <td>4</td>\n",
       "      <td>4</td>\n",
       "      <td>5</td>\n",
       "      <td>7</td>\n",
       "      <td>10</td>\n",
       "      <td>3</td>\n",
       "      <td>2</td>\n",
       "      <td>1</td>\n",
       "      <td>0</td>\n",
       "    </tr>\n",
       "    <tr>\n",
       "      <th>1</th>\n",
       "      <td>1015425</td>\n",
       "      <td>3</td>\n",
       "      <td>1</td>\n",
       "      <td>1</td>\n",
       "      <td>1</td>\n",
       "      <td>2</td>\n",
       "      <td>2</td>\n",
       "      <td>3</td>\n",
       "      <td>1</td>\n",
       "      <td>1</td>\n",
       "      <td>0</td>\n",
       "    </tr>\n",
       "    <tr>\n",
       "      <th>2</th>\n",
       "      <td>1016277</td>\n",
       "      <td>6</td>\n",
       "      <td>8</td>\n",
       "      <td>8</td>\n",
       "      <td>1</td>\n",
       "      <td>3</td>\n",
       "      <td>4</td>\n",
       "      <td>3</td>\n",
       "      <td>7</td>\n",
       "      <td>1</td>\n",
       "      <td>0</td>\n",
       "    </tr>\n",
       "    <tr>\n",
       "      <th>3</th>\n",
       "      <td>1017023</td>\n",
       "      <td>4</td>\n",
       "      <td>1</td>\n",
       "      <td>1</td>\n",
       "      <td>3</td>\n",
       "      <td>2</td>\n",
       "      <td>1</td>\n",
       "      <td>3</td>\n",
       "      <td>1</td>\n",
       "      <td>1</td>\n",
       "      <td>0</td>\n",
       "    </tr>\n",
       "    <tr>\n",
       "      <th>4</th>\n",
       "      <td>1017122</td>\n",
       "      <td>8</td>\n",
       "      <td>10</td>\n",
       "      <td>10</td>\n",
       "      <td>8</td>\n",
       "      <td>7</td>\n",
       "      <td>10</td>\n",
       "      <td>9</td>\n",
       "      <td>7</td>\n",
       "      <td>1</td>\n",
       "      <td>1</td>\n",
       "    </tr>\n",
       "  </tbody>\n",
       "</table>\n",
       "</div>"
      ],
      "text/plain": [
       "        id  clump_thickness  uniformity_cell_size  uniformity_cell_shape  \\\n",
       "0  1002945                5                     4                      4   \n",
       "1  1015425                3                     1                      1   \n",
       "2  1016277                6                     8                      8   \n",
       "3  1017023                4                     1                      1   \n",
       "4  1017122                8                    10                     10   \n",
       "\n",
       "   marginal_adhesion  single_epithelial_cell_size  bare_nuclei  \\\n",
       "0                  5                            7           10   \n",
       "1                  1                            2            2   \n",
       "2                  1                            3            4   \n",
       "3                  3                            2            1   \n",
       "4                  8                            7           10   \n",
       "\n",
       "   bland_chromatin  normal_nucleoli  mitoses  malignant  \n",
       "0                3                2        1          0  \n",
       "1                3                1        1          0  \n",
       "2                3                7        1          0  \n",
       "3                3                1        1          0  \n",
       "4                9                7        1          1  "
      ]
     },
     "execution_count": 8,
     "metadata": {},
     "output_type": "execute_result"
    }
   ],
   "source": [
    "dataset = pd.read_csv(\"./data/breast-cancer-wisconsin-cleaned.csv\")\n",
    "\n",
    "features = [\"clump_thickness\", \"uniformity_cell_size\", \n",
    "           \"uniformity_cell_shape\", \"marginal_adhesion\",\n",
    "           \"single_epithelial_cell_size\", \"bare_nuclei\", \n",
    "           \"bland_chromatin\", \"normal_nucleoli\", \"mitoses\"]\n",
    "\n",
    "dataset.head()"
   ]
  },
  {
   "cell_type": "markdown",
   "metadata": {},
   "source": [
    "## Training one Decision Tree Classifier"
   ]
  },
  {
   "cell_type": "code",
   "execution_count": 9,
   "metadata": {},
   "outputs": [
    {
     "name": "stdout",
     "output_type": "stream",
     "text": [
      "Train shape X: (511, 9)\n",
      "Train shape y: (511,)\n",
      "Test  shape X: (171, 9)\n",
      "Test  shape y: (171,)\n"
     ]
    },
    {
     "data": {
      "image/svg+xml": [
       "<?xml version=\"1.0\" encoding=\"UTF-8\" standalone=\"no\"?>\n",
       "<!DOCTYPE svg PUBLIC \"-//W3C//DTD SVG 1.1//EN\"\n",
       " \"http://www.w3.org/Graphics/SVG/1.1/DTD/svg11.dtd\">\n",
       "<!-- Generated by graphviz version 2.40.1 (20161225.0304)\n",
       " -->\n",
       "<!-- Title: Tree Pages: 1 -->\n",
       "<svg width=\"1015pt\" height=\"433pt\"\n",
       " viewBox=\"0.00 0.00 1015.00 433.00\" xmlns=\"http://www.w3.org/2000/svg\" xmlns:xlink=\"http://www.w3.org/1999/xlink\">\n",
       "<g id=\"graph0\" class=\"graph\" transform=\"scale(1 1) rotate(0) translate(4 429)\">\n",
       "<title>Tree</title>\n",
       "<polygon fill=\"#ffffff\" stroke=\"transparent\" points=\"-4,4 -4,-429 1011,-429 1011,4 -4,4\"/>\n",
       "<!-- 0 -->\n",
       "<g id=\"node1\" class=\"node\">\n",
       "<title>0</title>\n",
       "<path fill=\"#f3c6a5\" stroke=\"#000000\" d=\"M537.5,-425C537.5,-425 379.5,-425 379.5,-425 373.5,-425 367.5,-419 367.5,-413 367.5,-413 367.5,-354 367.5,-354 367.5,-348 373.5,-342 379.5,-342 379.5,-342 537.5,-342 537.5,-342 543.5,-342 549.5,-348 549.5,-354 549.5,-354 549.5,-413 549.5,-413 549.5,-419 543.5,-425 537.5,-425\"/>\n",
       "<text text-anchor=\"middle\" x=\"458.5\" y=\"-409.8\" font-family=\"Helvetica,sans-Serif\" font-size=\"14.00\" fill=\"#000000\">uniformity_cell_size &lt;= 2.5</text>\n",
       "<text text-anchor=\"middle\" x=\"458.5\" y=\"-394.8\" font-family=\"Helvetica,sans-Serif\" font-size=\"14.00\" fill=\"#000000\">entropy = 0.936</text>\n",
       "<text text-anchor=\"middle\" x=\"458.5\" y=\"-379.8\" font-family=\"Helvetica,sans-Serif\" font-size=\"14.00\" fill=\"#000000\">samples = 511</text>\n",
       "<text text-anchor=\"middle\" x=\"458.5\" y=\"-364.8\" font-family=\"Helvetica,sans-Serif\" font-size=\"14.00\" fill=\"#000000\">value = [331, 180]</text>\n",
       "<text text-anchor=\"middle\" x=\"458.5\" y=\"-349.8\" font-family=\"Helvetica,sans-Serif\" font-size=\"14.00\" fill=\"#000000\">class = 0</text>\n",
       "</g>\n",
       "<!-- 1 -->\n",
       "<g id=\"node2\" class=\"node\">\n",
       "<title>1</title>\n",
       "<path fill=\"#e6853f\" stroke=\"#000000\" d=\"M420.5,-306C420.5,-306 280.5,-306 280.5,-306 274.5,-306 268.5,-300 268.5,-294 268.5,-294 268.5,-235 268.5,-235 268.5,-229 274.5,-223 280.5,-223 280.5,-223 420.5,-223 420.5,-223 426.5,-223 432.5,-229 432.5,-235 432.5,-235 432.5,-294 432.5,-294 432.5,-300 426.5,-306 420.5,-306\"/>\n",
       "<text text-anchor=\"middle\" x=\"350.5\" y=\"-290.8\" font-family=\"Helvetica,sans-Serif\" font-size=\"14.00\" fill=\"#000000\">clump_thickness &lt;= 6.5</text>\n",
       "<text text-anchor=\"middle\" x=\"350.5\" y=\"-275.8\" font-family=\"Helvetica,sans-Serif\" font-size=\"14.00\" fill=\"#000000\">entropy = 0.19</text>\n",
       "<text text-anchor=\"middle\" x=\"350.5\" y=\"-260.8\" font-family=\"Helvetica,sans-Serif\" font-size=\"14.00\" fill=\"#000000\">samples = 309</text>\n",
       "<text text-anchor=\"middle\" x=\"350.5\" y=\"-245.8\" font-family=\"Helvetica,sans-Serif\" font-size=\"14.00\" fill=\"#000000\">value = [300, 9]</text>\n",
       "<text text-anchor=\"middle\" x=\"350.5\" y=\"-230.8\" font-family=\"Helvetica,sans-Serif\" font-size=\"14.00\" fill=\"#000000\">class = 0</text>\n",
       "</g>\n",
       "<!-- 0&#45;&gt;1 -->\n",
       "<g id=\"edge1\" class=\"edge\">\n",
       "<title>0&#45;&gt;1</title>\n",
       "<path fill=\"none\" stroke=\"#000000\" d=\"M420.7268,-341.8796C412.4713,-332.7832 403.658,-323.0722 395.1626,-313.7116\"/>\n",
       "<polygon fill=\"#000000\" stroke=\"#000000\" points=\"397.7467,-311.3509 388.4344,-306.2981 392.5632,-316.0553 397.7467,-311.3509\"/>\n",
       "<text text-anchor=\"middle\" x=\"387.2244\" y=\"-327.5688\" font-family=\"Helvetica,sans-Serif\" font-size=\"14.00\" fill=\"#000000\">True</text>\n",
       "</g>\n",
       "<!-- 8 -->\n",
       "<g id=\"node9\" class=\"node\">\n",
       "<title>8</title>\n",
       "<path fill=\"#5dafea\" stroke=\"#000000\" d=\"M682.5,-306C682.5,-306 524.5,-306 524.5,-306 518.5,-306 512.5,-300 512.5,-294 512.5,-294 512.5,-235 512.5,-235 512.5,-229 518.5,-223 524.5,-223 524.5,-223 682.5,-223 682.5,-223 688.5,-223 694.5,-229 694.5,-235 694.5,-235 694.5,-294 694.5,-294 694.5,-300 688.5,-306 682.5,-306\"/>\n",
       "<text text-anchor=\"middle\" x=\"603.5\" y=\"-290.8\" font-family=\"Helvetica,sans-Serif\" font-size=\"14.00\" fill=\"#000000\">uniformity_cell_size &lt;= 4.5</text>\n",
       "<text text-anchor=\"middle\" x=\"603.5\" y=\"-275.8\" font-family=\"Helvetica,sans-Serif\" font-size=\"14.00\" fill=\"#000000\">entropy = 0.618</text>\n",
       "<text text-anchor=\"middle\" x=\"603.5\" y=\"-260.8\" font-family=\"Helvetica,sans-Serif\" font-size=\"14.00\" fill=\"#000000\">samples = 202</text>\n",
       "<text text-anchor=\"middle\" x=\"603.5\" y=\"-245.8\" font-family=\"Helvetica,sans-Serif\" font-size=\"14.00\" fill=\"#000000\">value = [31, 171]</text>\n",
       "<text text-anchor=\"middle\" x=\"603.5\" y=\"-230.8\" font-family=\"Helvetica,sans-Serif\" font-size=\"14.00\" fill=\"#000000\">class = 1</text>\n",
       "</g>\n",
       "<!-- 0&#45;&gt;8 -->\n",
       "<g id=\"edge8\" class=\"edge\">\n",
       "<title>0&#45;&gt;8</title>\n",
       "<path fill=\"none\" stroke=\"#000000\" d=\"M509.214,-341.8796C520.627,-332.513 532.8341,-322.4948 544.5515,-312.8784\"/>\n",
       "<polygon fill=\"#000000\" stroke=\"#000000\" points=\"547.0599,-315.3476 552.5696,-306.2981 542.6191,-309.9366 547.0599,-315.3476\"/>\n",
       "<text text-anchor=\"middle\" x=\"550.1193\" y=\"-327.4777\" font-family=\"Helvetica,sans-Serif\" font-size=\"14.00\" fill=\"#000000\">False</text>\n",
       "</g>\n",
       "<!-- 2 -->\n",
       "<g id=\"node3\" class=\"node\">\n",
       "<title>2</title>\n",
       "<path fill=\"#e5823a\" stroke=\"#000000\" d=\"M242.5,-187C242.5,-187 134.5,-187 134.5,-187 128.5,-187 122.5,-181 122.5,-175 122.5,-175 122.5,-116 122.5,-116 122.5,-110 128.5,-104 134.5,-104 134.5,-104 242.5,-104 242.5,-104 248.5,-104 254.5,-110 254.5,-116 254.5,-116 254.5,-175 254.5,-175 254.5,-181 248.5,-187 242.5,-187\"/>\n",
       "<text text-anchor=\"middle\" x=\"188.5\" y=\"-171.8\" font-family=\"Helvetica,sans-Serif\" font-size=\"14.00\" fill=\"#000000\">bare_nuclei &lt;= 4.5</text>\n",
       "<text text-anchor=\"middle\" x=\"188.5\" y=\"-156.8\" font-family=\"Helvetica,sans-Serif\" font-size=\"14.00\" fill=\"#000000\">entropy = 0.058</text>\n",
       "<text text-anchor=\"middle\" x=\"188.5\" y=\"-141.8\" font-family=\"Helvetica,sans-Serif\" font-size=\"14.00\" fill=\"#000000\">samples = 301</text>\n",
       "<text text-anchor=\"middle\" x=\"188.5\" y=\"-126.8\" font-family=\"Helvetica,sans-Serif\" font-size=\"14.00\" fill=\"#000000\">value = [299, 2]</text>\n",
       "<text text-anchor=\"middle\" x=\"188.5\" y=\"-111.8\" font-family=\"Helvetica,sans-Serif\" font-size=\"14.00\" fill=\"#000000\">class = 0</text>\n",
       "</g>\n",
       "<!-- 1&#45;&gt;2 -->\n",
       "<g id=\"edge2\" class=\"edge\">\n",
       "<title>1&#45;&gt;2</title>\n",
       "<path fill=\"none\" stroke=\"#000000\" d=\"M293.8403,-222.8796C280.7684,-213.2774 266.7641,-202.9903 253.3727,-193.1534\"/>\n",
       "<polygon fill=\"#000000\" stroke=\"#000000\" points=\"255.2591,-190.1963 245.1277,-187.0969 251.115,-195.8378 255.2591,-190.1963\"/>\n",
       "</g>\n",
       "<!-- 5 -->\n",
       "<g id=\"node6\" class=\"node\">\n",
       "<title>5</title>\n",
       "<path fill=\"#55abe9\" stroke=\"#000000\" d=\"M404.5,-187C404.5,-187 296.5,-187 296.5,-187 290.5,-187 284.5,-181 284.5,-175 284.5,-175 284.5,-116 284.5,-116 284.5,-110 290.5,-104 296.5,-104 296.5,-104 404.5,-104 404.5,-104 410.5,-104 416.5,-110 416.5,-116 416.5,-116 416.5,-175 416.5,-175 416.5,-181 410.5,-187 404.5,-187\"/>\n",
       "<text text-anchor=\"middle\" x=\"350.5\" y=\"-171.8\" font-family=\"Helvetica,sans-Serif\" font-size=\"14.00\" fill=\"#000000\">bare_nuclei &lt;= 2.0</text>\n",
       "<text text-anchor=\"middle\" x=\"350.5\" y=\"-156.8\" font-family=\"Helvetica,sans-Serif\" font-size=\"14.00\" fill=\"#000000\">entropy = 0.544</text>\n",
       "<text text-anchor=\"middle\" x=\"350.5\" y=\"-141.8\" font-family=\"Helvetica,sans-Serif\" font-size=\"14.00\" fill=\"#000000\">samples = 8</text>\n",
       "<text text-anchor=\"middle\" x=\"350.5\" y=\"-126.8\" font-family=\"Helvetica,sans-Serif\" font-size=\"14.00\" fill=\"#000000\">value = [1, 7]</text>\n",
       "<text text-anchor=\"middle\" x=\"350.5\" y=\"-111.8\" font-family=\"Helvetica,sans-Serif\" font-size=\"14.00\" fill=\"#000000\">class = 1</text>\n",
       "</g>\n",
       "<!-- 1&#45;&gt;5 -->\n",
       "<g id=\"edge5\" class=\"edge\">\n",
       "<title>1&#45;&gt;5</title>\n",
       "<path fill=\"none\" stroke=\"#000000\" d=\"M350.5,-222.8796C350.5,-214.6838 350.5,-205.9891 350.5,-197.5013\"/>\n",
       "<polygon fill=\"#000000\" stroke=\"#000000\" points=\"354.0001,-197.298 350.5,-187.2981 347.0001,-197.2981 354.0001,-197.298\"/>\n",
       "</g>\n",
       "<!-- 3 -->\n",
       "<g id=\"node4\" class=\"node\">\n",
       "<title>3</title>\n",
       "<path fill=\"#e58139\" stroke=\"#000000\" d=\"M101,-68C101,-68 12,-68 12,-68 6,-68 0,-62 0,-56 0,-56 0,-12 0,-12 0,-6 6,0 12,0 12,0 101,0 101,0 107,0 113,-6 113,-12 113,-12 113,-56 113,-56 113,-62 107,-68 101,-68\"/>\n",
       "<text text-anchor=\"middle\" x=\"56.5\" y=\"-52.8\" font-family=\"Helvetica,sans-Serif\" font-size=\"14.00\" fill=\"#000000\">entropy = 0.0</text>\n",
       "<text text-anchor=\"middle\" x=\"56.5\" y=\"-37.8\" font-family=\"Helvetica,sans-Serif\" font-size=\"14.00\" fill=\"#000000\">samples = 294</text>\n",
       "<text text-anchor=\"middle\" x=\"56.5\" y=\"-22.8\" font-family=\"Helvetica,sans-Serif\" font-size=\"14.00\" fill=\"#000000\">value = [294, 0]</text>\n",
       "<text text-anchor=\"middle\" x=\"56.5\" y=\"-7.8\" font-family=\"Helvetica,sans-Serif\" font-size=\"14.00\" fill=\"#000000\">class = 0</text>\n",
       "</g>\n",
       "<!-- 2&#45;&gt;3 -->\n",
       "<g id=\"edge3\" class=\"edge\">\n",
       "<title>2&#45;&gt;3</title>\n",
       "<path fill=\"none\" stroke=\"#000000\" d=\"M139.3481,-103.9815C128.0324,-94.4232 116.0087,-84.2668 104.7325,-74.7419\"/>\n",
       "<polygon fill=\"#000000\" stroke=\"#000000\" points=\"106.9612,-72.0429 97.0633,-68.2637 102.4441,-77.3904 106.9612,-72.0429\"/>\n",
       "</g>\n",
       "<!-- 4 -->\n",
       "<g id=\"node5\" class=\"node\">\n",
       "<title>4</title>\n",
       "<path fill=\"#efb388\" stroke=\"#000000\" d=\"M233.5,-68C233.5,-68 143.5,-68 143.5,-68 137.5,-68 131.5,-62 131.5,-56 131.5,-56 131.5,-12 131.5,-12 131.5,-6 137.5,0 143.5,0 143.5,0 233.5,0 233.5,0 239.5,0 245.5,-6 245.5,-12 245.5,-12 245.5,-56 245.5,-56 245.5,-62 239.5,-68 233.5,-68\"/>\n",
       "<text text-anchor=\"middle\" x=\"188.5\" y=\"-52.8\" font-family=\"Helvetica,sans-Serif\" font-size=\"14.00\" fill=\"#000000\">entropy = 0.863</text>\n",
       "<text text-anchor=\"middle\" x=\"188.5\" y=\"-37.8\" font-family=\"Helvetica,sans-Serif\" font-size=\"14.00\" fill=\"#000000\">samples = 7</text>\n",
       "<text text-anchor=\"middle\" x=\"188.5\" y=\"-22.8\" font-family=\"Helvetica,sans-Serif\" font-size=\"14.00\" fill=\"#000000\">value = [5, 2]</text>\n",
       "<text text-anchor=\"middle\" x=\"188.5\" y=\"-7.8\" font-family=\"Helvetica,sans-Serif\" font-size=\"14.00\" fill=\"#000000\">class = 0</text>\n",
       "</g>\n",
       "<!-- 2&#45;&gt;4 -->\n",
       "<g id=\"edge4\" class=\"edge\">\n",
       "<title>2&#45;&gt;4</title>\n",
       "<path fill=\"none\" stroke=\"#000000\" d=\"M188.5,-103.9815C188.5,-95.618 188.5,-86.7965 188.5,-78.3409\"/>\n",
       "<polygon fill=\"#000000\" stroke=\"#000000\" points=\"192.0001,-78.2636 188.5,-68.2637 185.0001,-78.2637 192.0001,-78.2636\"/>\n",
       "</g>\n",
       "<!-- 6 -->\n",
       "<g id=\"node7\" class=\"node\">\n",
       "<title>6</title>\n",
       "<path fill=\"#ffffff\" stroke=\"#000000\" d=\"M351,-68C351,-68 276,-68 276,-68 270,-68 264,-62 264,-56 264,-56 264,-12 264,-12 264,-6 270,0 276,0 276,0 351,0 351,0 357,0 363,-6 363,-12 363,-12 363,-56 363,-56 363,-62 357,-68 351,-68\"/>\n",
       "<text text-anchor=\"middle\" x=\"313.5\" y=\"-52.8\" font-family=\"Helvetica,sans-Serif\" font-size=\"14.00\" fill=\"#000000\">entropy = 1.0</text>\n",
       "<text text-anchor=\"middle\" x=\"313.5\" y=\"-37.8\" font-family=\"Helvetica,sans-Serif\" font-size=\"14.00\" fill=\"#000000\">samples = 2</text>\n",
       "<text text-anchor=\"middle\" x=\"313.5\" y=\"-22.8\" font-family=\"Helvetica,sans-Serif\" font-size=\"14.00\" fill=\"#000000\">value = [1, 1]</text>\n",
       "<text text-anchor=\"middle\" x=\"313.5\" y=\"-7.8\" font-family=\"Helvetica,sans-Serif\" font-size=\"14.00\" fill=\"#000000\">class = 0</text>\n",
       "</g>\n",
       "<!-- 5&#45;&gt;6 -->\n",
       "<g id=\"edge6\" class=\"edge\">\n",
       "<title>5&#45;&gt;6</title>\n",
       "<path fill=\"none\" stroke=\"#000000\" d=\"M336.7226,-103.9815C333.8862,-95.4342 330.8912,-86.4086 328.0292,-77.7839\"/>\n",
       "<polygon fill=\"#000000\" stroke=\"#000000\" points=\"331.3415,-76.6524 324.87,-68.2637 324.6977,-78.8571 331.3415,-76.6524\"/>\n",
       "</g>\n",
       "<!-- 7 -->\n",
       "<g id=\"node8\" class=\"node\">\n",
       "<title>7</title>\n",
       "<path fill=\"#399de5\" stroke=\"#000000\" d=\"M468,-68C468,-68 393,-68 393,-68 387,-68 381,-62 381,-56 381,-56 381,-12 381,-12 381,-6 387,0 393,0 393,0 468,0 468,0 474,0 480,-6 480,-12 480,-12 480,-56 480,-56 480,-62 474,-68 468,-68\"/>\n",
       "<text text-anchor=\"middle\" x=\"430.5\" y=\"-52.8\" font-family=\"Helvetica,sans-Serif\" font-size=\"14.00\" fill=\"#000000\">entropy = 0.0</text>\n",
       "<text text-anchor=\"middle\" x=\"430.5\" y=\"-37.8\" font-family=\"Helvetica,sans-Serif\" font-size=\"14.00\" fill=\"#000000\">samples = 6</text>\n",
       "<text text-anchor=\"middle\" x=\"430.5\" y=\"-22.8\" font-family=\"Helvetica,sans-Serif\" font-size=\"14.00\" fill=\"#000000\">value = [0, 6]</text>\n",
       "<text text-anchor=\"middle\" x=\"430.5\" y=\"-7.8\" font-family=\"Helvetica,sans-Serif\" font-size=\"14.00\" fill=\"#000000\">class = 1</text>\n",
       "</g>\n",
       "<!-- 5&#45;&gt;7 -->\n",
       "<g id=\"edge7\" class=\"edge\">\n",
       "<title>5&#45;&gt;7</title>\n",
       "<path fill=\"none\" stroke=\"#000000\" d=\"M380.289,-103.9815C386.7514,-94.9747 393.5948,-85.4367 400.081,-76.3965\"/>\n",
       "<polygon fill=\"#000000\" stroke=\"#000000\" points=\"402.9303,-78.4291 405.9162,-68.2637 397.2428,-74.3483 402.9303,-78.4291\"/>\n",
       "</g>\n",
       "<!-- 9 -->\n",
       "<g id=\"node10\" class=\"node\">\n",
       "<title>9</title>\n",
       "<path fill=\"#c9e4f8\" stroke=\"#000000\" d=\"M657.5,-187C657.5,-187 549.5,-187 549.5,-187 543.5,-187 537.5,-181 537.5,-175 537.5,-175 537.5,-116 537.5,-116 537.5,-110 543.5,-104 549.5,-104 549.5,-104 657.5,-104 657.5,-104 663.5,-104 669.5,-110 669.5,-116 669.5,-116 669.5,-175 669.5,-175 669.5,-181 663.5,-187 657.5,-187\"/>\n",
       "<text text-anchor=\"middle\" x=\"603.5\" y=\"-171.8\" font-family=\"Helvetica,sans-Serif\" font-size=\"14.00\" fill=\"#000000\">bare_nuclei &lt;= 6.0</text>\n",
       "<text text-anchor=\"middle\" x=\"603.5\" y=\"-156.8\" font-family=\"Helvetica,sans-Serif\" font-size=\"14.00\" fill=\"#000000\">entropy = 0.982</text>\n",
       "<text text-anchor=\"middle\" x=\"603.5\" y=\"-141.8\" font-family=\"Helvetica,sans-Serif\" font-size=\"14.00\" fill=\"#000000\">samples = 69</text>\n",
       "<text text-anchor=\"middle\" x=\"603.5\" y=\"-126.8\" font-family=\"Helvetica,sans-Serif\" font-size=\"14.00\" fill=\"#000000\">value = [29, 40]</text>\n",
       "<text text-anchor=\"middle\" x=\"603.5\" y=\"-111.8\" font-family=\"Helvetica,sans-Serif\" font-size=\"14.00\" fill=\"#000000\">class = 1</text>\n",
       "</g>\n",
       "<!-- 8&#45;&gt;9 -->\n",
       "<g id=\"edge9\" class=\"edge\">\n",
       "<title>8&#45;&gt;9</title>\n",
       "<path fill=\"none\" stroke=\"#000000\" d=\"M603.5,-222.8796C603.5,-214.6838 603.5,-205.9891 603.5,-197.5013\"/>\n",
       "<polygon fill=\"#000000\" stroke=\"#000000\" points=\"607.0001,-197.298 603.5,-187.2981 600.0001,-197.2981 607.0001,-197.298\"/>\n",
       "</g>\n",
       "<!-- 12 -->\n",
       "<g id=\"node13\" class=\"node\">\n",
       "<title>12</title>\n",
       "<path fill=\"#3c9ee5\" stroke=\"#000000\" d=\"M888.5,-187C888.5,-187 748.5,-187 748.5,-187 742.5,-187 736.5,-181 736.5,-175 736.5,-175 736.5,-116 736.5,-116 736.5,-110 742.5,-104 748.5,-104 748.5,-104 888.5,-104 888.5,-104 894.5,-104 900.5,-110 900.5,-116 900.5,-116 900.5,-175 900.5,-175 900.5,-181 894.5,-187 888.5,-187\"/>\n",
       "<text text-anchor=\"middle\" x=\"818.5\" y=\"-171.8\" font-family=\"Helvetica,sans-Serif\" font-size=\"14.00\" fill=\"#000000\">bland_chromatin &lt;= 4.5</text>\n",
       "<text text-anchor=\"middle\" x=\"818.5\" y=\"-156.8\" font-family=\"Helvetica,sans-Serif\" font-size=\"14.00\" fill=\"#000000\">entropy = 0.113</text>\n",
       "<text text-anchor=\"middle\" x=\"818.5\" y=\"-141.8\" font-family=\"Helvetica,sans-Serif\" font-size=\"14.00\" fill=\"#000000\">samples = 133</text>\n",
       "<text text-anchor=\"middle\" x=\"818.5\" y=\"-126.8\" font-family=\"Helvetica,sans-Serif\" font-size=\"14.00\" fill=\"#000000\">value = [2, 131]</text>\n",
       "<text text-anchor=\"middle\" x=\"818.5\" y=\"-111.8\" font-family=\"Helvetica,sans-Serif\" font-size=\"14.00\" fill=\"#000000\">class = 1</text>\n",
       "</g>\n",
       "<!-- 8&#45;&gt;12 -->\n",
       "<g id=\"edge12\" class=\"edge\">\n",
       "<title>8&#45;&gt;12</title>\n",
       "<path fill=\"none\" stroke=\"#000000\" d=\"M678.6966,-222.8796C696.6997,-212.915 716.0355,-202.2129 734.4119,-192.0418\"/>\n",
       "<polygon fill=\"#000000\" stroke=\"#000000\" points=\"736.2916,-195.0018 743.3459,-187.0969 732.9017,-188.8773 736.2916,-195.0018\"/>\n",
       "</g>\n",
       "<!-- 10 -->\n",
       "<g id=\"node11\" class=\"node\">\n",
       "<title>10</title>\n",
       "<path fill=\"#f1b991\" stroke=\"#000000\" d=\"M599,-68C599,-68 510,-68 510,-68 504,-68 498,-62 498,-56 498,-56 498,-12 498,-12 498,-6 504,0 510,0 510,0 599,0 599,0 605,0 611,-6 611,-12 611,-12 611,-56 611,-56 611,-62 605,-68 599,-68\"/>\n",
       "<text text-anchor=\"middle\" x=\"554.5\" y=\"-52.8\" font-family=\"Helvetica,sans-Serif\" font-size=\"14.00\" fill=\"#000000\">entropy = 0.89</text>\n",
       "<text text-anchor=\"middle\" x=\"554.5\" y=\"-37.8\" font-family=\"Helvetica,sans-Serif\" font-size=\"14.00\" fill=\"#000000\">samples = 39</text>\n",
       "<text text-anchor=\"middle\" x=\"554.5\" y=\"-22.8\" font-family=\"Helvetica,sans-Serif\" font-size=\"14.00\" fill=\"#000000\">value = [27, 12]</text>\n",
       "<text text-anchor=\"middle\" x=\"554.5\" y=\"-7.8\" font-family=\"Helvetica,sans-Serif\" font-size=\"14.00\" fill=\"#000000\">class = 0</text>\n",
       "</g>\n",
       "<!-- 9&#45;&gt;10 -->\n",
       "<g id=\"edge10\" class=\"edge\">\n",
       "<title>9&#45;&gt;10</title>\n",
       "<path fill=\"none\" stroke=\"#000000\" d=\"M585.2542,-103.9815C581.4576,-95.3423 577.4462,-86.2144 573.6192,-77.5059\"/>\n",
       "<polygon fill=\"#000000\" stroke=\"#000000\" points=\"576.7851,-76.0105 569.5576,-68.2637 570.3767,-78.8268 576.7851,-76.0105\"/>\n",
       "</g>\n",
       "<!-- 11 -->\n",
       "<g id=\"node12\" class=\"node\">\n",
       "<title>11</title>\n",
       "<path fill=\"#47a4e7\" stroke=\"#000000\" d=\"M731.5,-68C731.5,-68 641.5,-68 641.5,-68 635.5,-68 629.5,-62 629.5,-56 629.5,-56 629.5,-12 629.5,-12 629.5,-6 635.5,0 641.5,0 641.5,0 731.5,0 731.5,0 737.5,0 743.5,-6 743.5,-12 743.5,-12 743.5,-56 743.5,-56 743.5,-62 737.5,-68 731.5,-68\"/>\n",
       "<text text-anchor=\"middle\" x=\"686.5\" y=\"-52.8\" font-family=\"Helvetica,sans-Serif\" font-size=\"14.00\" fill=\"#000000\">entropy = 0.353</text>\n",
       "<text text-anchor=\"middle\" x=\"686.5\" y=\"-37.8\" font-family=\"Helvetica,sans-Serif\" font-size=\"14.00\" fill=\"#000000\">samples = 30</text>\n",
       "<text text-anchor=\"middle\" x=\"686.5\" y=\"-22.8\" font-family=\"Helvetica,sans-Serif\" font-size=\"14.00\" fill=\"#000000\">value = [2, 28]</text>\n",
       "<text text-anchor=\"middle\" x=\"686.5\" y=\"-7.8\" font-family=\"Helvetica,sans-Serif\" font-size=\"14.00\" fill=\"#000000\">class = 1</text>\n",
       "</g>\n",
       "<!-- 9&#45;&gt;11 -->\n",
       "<g id=\"edge11\" class=\"edge\">\n",
       "<title>9&#45;&gt;11</title>\n",
       "<path fill=\"none\" stroke=\"#000000\" d=\"M634.4061,-103.9815C641.1108,-94.9747 648.2108,-85.4367 654.9403,-76.3965\"/>\n",
       "<polygon fill=\"#000000\" stroke=\"#000000\" points=\"657.8306,-78.3752 660.9943,-68.2637 652.2155,-74.1953 657.8306,-78.3752\"/>\n",
       "</g>\n",
       "<!-- 13 -->\n",
       "<g id=\"node14\" class=\"node\">\n",
       "<title>13</title>\n",
       "<path fill=\"#47a4e7\" stroke=\"#000000\" d=\"M863.5,-68C863.5,-68 773.5,-68 773.5,-68 767.5,-68 761.5,-62 761.5,-56 761.5,-56 761.5,-12 761.5,-12 761.5,-6 767.5,0 773.5,0 773.5,0 863.5,0 863.5,0 869.5,0 875.5,-6 875.5,-12 875.5,-12 875.5,-56 875.5,-56 875.5,-62 869.5,-68 863.5,-68\"/>\n",
       "<text text-anchor=\"middle\" x=\"818.5\" y=\"-52.8\" font-family=\"Helvetica,sans-Serif\" font-size=\"14.00\" fill=\"#000000\">entropy = 0.345</text>\n",
       "<text text-anchor=\"middle\" x=\"818.5\" y=\"-37.8\" font-family=\"Helvetica,sans-Serif\" font-size=\"14.00\" fill=\"#000000\">samples = 31</text>\n",
       "<text text-anchor=\"middle\" x=\"818.5\" y=\"-22.8\" font-family=\"Helvetica,sans-Serif\" font-size=\"14.00\" fill=\"#000000\">value = [2, 29]</text>\n",
       "<text text-anchor=\"middle\" x=\"818.5\" y=\"-7.8\" font-family=\"Helvetica,sans-Serif\" font-size=\"14.00\" fill=\"#000000\">class = 1</text>\n",
       "</g>\n",
       "<!-- 12&#45;&gt;13 -->\n",
       "<g id=\"edge13\" class=\"edge\">\n",
       "<title>12&#45;&gt;13</title>\n",
       "<path fill=\"none\" stroke=\"#000000\" d=\"M818.5,-103.9815C818.5,-95.618 818.5,-86.7965 818.5,-78.3409\"/>\n",
       "<polygon fill=\"#000000\" stroke=\"#000000\" points=\"822.0001,-78.2636 818.5,-68.2637 815.0001,-78.2637 822.0001,-78.2636\"/>\n",
       "</g>\n",
       "<!-- 14 -->\n",
       "<g id=\"node15\" class=\"node\">\n",
       "<title>14</title>\n",
       "<path fill=\"#399de5\" stroke=\"#000000\" d=\"M995,-68C995,-68 906,-68 906,-68 900,-68 894,-62 894,-56 894,-56 894,-12 894,-12 894,-6 900,0 906,0 906,0 995,0 995,0 1001,0 1007,-6 1007,-12 1007,-12 1007,-56 1007,-56 1007,-62 1001,-68 995,-68\"/>\n",
       "<text text-anchor=\"middle\" x=\"950.5\" y=\"-52.8\" font-family=\"Helvetica,sans-Serif\" font-size=\"14.00\" fill=\"#000000\">entropy = 0.0</text>\n",
       "<text text-anchor=\"middle\" x=\"950.5\" y=\"-37.8\" font-family=\"Helvetica,sans-Serif\" font-size=\"14.00\" fill=\"#000000\">samples = 102</text>\n",
       "<text text-anchor=\"middle\" x=\"950.5\" y=\"-22.8\" font-family=\"Helvetica,sans-Serif\" font-size=\"14.00\" fill=\"#000000\">value = [0, 102]</text>\n",
       "<text text-anchor=\"middle\" x=\"950.5\" y=\"-7.8\" font-family=\"Helvetica,sans-Serif\" font-size=\"14.00\" fill=\"#000000\">class = 1</text>\n",
       "</g>\n",
       "<!-- 12&#45;&gt;14 -->\n",
       "<g id=\"edge14\" class=\"edge\">\n",
       "<title>12&#45;&gt;14</title>\n",
       "<path fill=\"none\" stroke=\"#000000\" d=\"M867.6519,-103.9815C878.9676,-94.4232 890.9913,-84.2668 902.2675,-74.7419\"/>\n",
       "<polygon fill=\"#000000\" stroke=\"#000000\" points=\"904.5559,-77.3904 909.9367,-68.2637 900.0388,-72.0429 904.5559,-77.3904\"/>\n",
       "</g>\n",
       "</g>\n",
       "</svg>\n"
      ],
      "text/plain": [
       "<graphviz.files.Source at 0x1a1bad81d0>"
      ]
     },
     "execution_count": 9,
     "metadata": {},
     "output_type": "execute_result"
    },
    {
     "data": {
      "text/plain": [
       "3"
      ]
     },
     "execution_count": 9,
     "metadata": {},
     "output_type": "execute_result"
    }
   ],
   "source": [
    "# Feture and target vectors\n",
    "X = dataset[features].values\n",
    "y = dataset[\"malignant\"].values\n",
    "\n",
    "# split dataset into training and testing\n",
    "# random_state is the seed of the random geenrator, we set it to get reproducible results\n",
    "X_train, X_test, y_train, y_test = train_test_split(X, y, test_size=0.25, random_state=0)\n",
    "\n",
    "# Training shape\n",
    "print(f\"Train shape X: {X_train.shape}\")\n",
    "print(f\"Train shape y: {y_train.shape}\")\n",
    "\n",
    "# Testing shape\n",
    "print(f\"Test  shape X: {X_test.shape}\")\n",
    "print(f\"Test  shape y: {y_test.shape}\")\n",
    "\n",
    "\n",
    "# Use all features\n",
    "max_features = len(features)\n",
    "\n",
    "# Minit the tree depth to 3 (just for fun)\n",
    "max_depth = 3\n",
    "\n",
    "# Instantiate mdoel from its scikit learn class\n",
    "estimator = tree.DecisionTreeClassifier(criterion=\"entropy\",\n",
    "                                        max_features=max_features, \n",
    "                                        max_depth=max_depth,\n",
    "                                        random_state=0)\n",
    "\n",
    "# Induce the model\n",
    "estimator = estimator.fit(X_train, y_train)\n",
    "\n",
    "# Induce model with k-fold cross-validation (with k=10)\n",
    "average_score_training = cross_val_score(estimator, X_train, y_train, cv=10, scoring=None)\n",
    "\n",
    "score_new_data = estimator.score(X_test, y_test, sample_weight=None)\n",
    "\n",
    "# Encode the estimator result into a DOT file\n",
    "dot_string = tree.export_graphviz(estimator,\n",
    "                                  out_file=None, \n",
    "                                  feature_names=features, \n",
    "                                  class_names=['0', '1'], \n",
    "                                  filled=True,\n",
    "                                  rounded=True)\n",
    "\n",
    "# Visualize the graph in line\n",
    "graph = graphviz.Source(dot_string)\n",
    "\n",
    "graph\n",
    "estimator.get_depth()"
   ]
  },
  {
   "cell_type": "markdown",
   "metadata": {},
   "source": [
    "## Scoring the Classifier"
   ]
  },
  {
   "cell_type": "code",
   "execution_count": 50,
   "metadata": {},
   "outputs": [
    {
     "data": {
      "text/plain": [
       "fit_time                  0.001\n",
       "score_time                0.004\n",
       "test_accuracy             0.947\n",
       "test_precision_weighted   0.949\n",
       "test_recall_macro         0.939\n",
       "test_f1                   0.922\n",
       "dtype: float64"
      ]
     },
     "execution_count": 50,
     "metadata": {},
     "output_type": "execute_result"
    }
   ],
   "source": [
    "scoring = ['accuracy','precision_macro', 'recall_macro', 'f1']\n",
    "scores = cross_validate(estimator, X_train, y_train, cv=10, scoring=scoring)\n",
    "pd.DataFrame(scores).mean()"
   ]
  },
  {
   "cell_type": "markdown",
   "metadata": {},
   "source": [
    "## Bare rate"
   ]
  },
  {
   "cell_type": "code",
   "execution_count": 43,
   "metadata": {},
   "outputs": [
    {
     "data": {
      "text/plain": [
       "0   0.650\n",
       "1   0.350\n",
       "Name: malignant, dtype: float64"
      ]
     },
     "execution_count": 43,
     "metadata": {},
     "output_type": "execute_result"
    }
   ],
   "source": [
    "dataset[\"malignant\"].value_counts()/len(dataset[\"malignant\"])"
   ]
  },
  {
   "cell_type": "code",
   "execution_count": 47,
   "metadata": {},
   "outputs": [
    {
     "data": {
      "text/plain": [
       "count   10.000\n",
       "mean     0.505\n",
       "std      0.056\n",
       "min      0.415\n",
       "25%      0.475\n",
       "50%      0.497\n",
       "75%      0.538\n",
       "max      0.602\n",
       "dtype: float64"
      ]
     },
     "execution_count": 47,
     "metadata": {},
     "output_type": "execute_result"
    }
   ],
   "source": [
    "scores = []\n",
    "for i in range(10):\n",
    "    dummy = DummyClassifier(strategy=\"uniform\",random_state=None)\n",
    "    dummy = dummy.fit(X_train, y_train)\n",
    "    scores.append(dummy.score(X_test, y_test))\n",
    "\n",
    "pd.Series(scores).describe()"
   ]
  },
  {
   "cell_type": "markdown",
   "metadata": {},
   "source": [
    "## Visualize Decision Trees"
   ]
  },
  {
   "cell_type": "code",
   "execution_count": 4,
   "metadata": {},
   "outputs": [
    {
     "name": "stdout",
     "output_type": "stream",
     "text": [
      "This is how the tree classifies:\n"
     ]
    },
    {
     "data": {
      "text/plain": [
       "'images/sample-decision-tree.jpg'"
      ]
     },
     "execution_count": 4,
     "metadata": {},
     "output_type": "execute_result"
    },
    {
     "name": "stdout",
     "output_type": "stream",
     "text": [
      "|--- uniformity_cell_size <= 2.50\n",
      "|   |--- clump_thickness <= 6.50\n",
      "|   |   |--- bare_nuclei <= 4.50\n",
      "|   |   |   |--- class: 0\n",
      "|   |   |--- bare_nuclei >  4.50\n",
      "|   |   |   |--- class: 0\n",
      "|   |--- clump_thickness >  6.50\n",
      "|   |   |--- bare_nuclei <= 2.00\n",
      "|   |   |   |--- class: 0\n",
      "|   |   |--- bare_nuclei >  2.00\n",
      "|   |   |   |--- class: 1\n",
      "|--- uniformity_cell_size >  2.50\n",
      "|   |--- uniformity_cell_size <= 4.50\n",
      "|   |   |--- bare_nuclei <= 6.00\n",
      "|   |   |   |--- class: 0\n",
      "|   |   |--- bare_nuclei >  6.00\n",
      "|   |   |   |--- class: 1\n",
      "|   |--- uniformity_cell_size >  4.50\n",
      "|   |   |--- bland_chromatin <= 4.50\n",
      "|   |   |   |--- class: 1\n",
      "|   |   |--- bland_chromatin >  4.50\n",
      "|   |   |   |--- class: 1\n",
      "\n"
     ]
    }
   ],
   "source": [
    "# Encode the estimator result into a DOT file\n",
    "dot_string = tree.export_graphviz(estimator,\n",
    "                                  out_file=None, \n",
    "                                  feature_names=features, \n",
    "                                  class_names=['0', '1'], \n",
    "                                  filled=True,\n",
    "                                  rounded=True)\n",
    "\n",
    "# Visualize the graph in line\n",
    "print(\"This is how the tree classifies:\")\n",
    "graph = graphviz.Source(dot_string)\n",
    "\n",
    "# Render graph and save it as pdf - https://graphviz.readthedocs.io/en/stable/api.html#graphviz.Source.render\n",
    "format_as = 'jpg'\n",
    "graph.render(filename=f'sample-decision-tree', directory=\"images\", view=True, format=format_as) \n",
    "\n",
    "# See the tree in text\n",
    "r = tree.export_text(estimator, feature_names=features)\n",
    "print(r)"
   ]
  },
  {
   "cell_type": "markdown",
   "metadata": {},
   "source": [
    "## Plot the model Learning Curve\n",
    "We want to know the impact of dataset size on training score (in this case accuracy). To do this, we:\n",
    "\n",
    "1. randomly select 75% of the data as training and 25% as validation\n",
    "2. randomly select \"s\" samples from the training datasets (X,y) and fit the model\n",
    "3. score model performance on the validation dataset\n",
    "4. increase \"s\" by 10 and repeat\n",
    "5. repeat the whole thing many times take an average of the scores"
   ]
  },
  {
   "cell_type": "code",
   "execution_count": null,
   "metadata": {},
   "outputs": [],
   "source": [
    "# Feture and target vectors\n",
    "X = dataset[features].values\n",
    "y = dataset[\"malignant\"].values\n",
    "\n",
    "all_frames=[]\n",
    "\n",
    "for iteration in range(100):\n",
    "    \n",
    "    # split dataset into training and testing\n",
    "    # random_state is the seed of the random geenrator, we set it to get reproducible results\n",
    "    X_train, X_test, y_train, y_test = train_test_split(X, y, test_size=0.25, random_state=iteration)\n",
    "\n",
    "    # LEt's vary the size of the training set\n",
    "    ds_size = list(range(5, len(X_train), 10))\n",
    "    scores_training = []\n",
    "    scores_testing = []\n",
    "    \n",
    "    # TRain model for each dataset size\n",
    "    for s in ds_size:\n",
    "        \n",
    "        sel = sample_without_replacement(n_population=len(X_train), n_samples=s)\n",
    "        this_x_train = X_train[sel,:]\n",
    "        this_y_train = y_train[sel]\n",
    "        \n",
    "        # Induce model\n",
    "        avg_training_score, avg_testing_score = learn_tree(X_train=this_x_train, \n",
    "                                                           y_train=this_y_train, \n",
    "                                                           X_test=X_test, \n",
    "                                                           y_test=y_test, \n",
    "                                                           features=features, \n",
    "                                                           max_features=len(features))\n",
    "        scores_training.append(avg_training_score)\n",
    "        scores_testing.append(avg_testing_score)\n",
    "\n",
    "    # Load data into a frame\n",
    "    this_frame = pd.DataFrame()\n",
    "    this_frame[\"scores_training\"] = scores_training\n",
    "    this_frame[\"scores_testing\"] = scores_testing\n",
    "    this_frame[\"dataset_size\"] = ds_size\n",
    "    \n",
    "    all_frames.append(this_frame)"
   ]
  },
  {
   "cell_type": "code",
   "execution_count": 31,
   "metadata": {},
   "outputs": [
    {
     "ename": "KeyError",
     "evalue": "'dataset_size'",
     "output_type": "error",
     "traceback": [
      "\u001b[0;31m---------------------------------------------------------------------------\u001b[0m",
      "\u001b[0;31mKeyError\u001b[0m                                  Traceback (most recent call last)",
      "\u001b[0;32m<ipython-input-31-0a3ba95dd87e>\u001b[0m in \u001b[0;36m<module>\u001b[0;34m\u001b[0m\n\u001b[1;32m      3\u001b[0m \u001b[0;34m\u001b[0m\u001b[0m\n\u001b[1;32m      4\u001b[0m \u001b[0;31m# Aggregate and plot\u001b[0m\u001b[0;34m\u001b[0m\u001b[0;34m\u001b[0m\u001b[0;34m\u001b[0m\u001b[0m\n\u001b[0;32m----> 5\u001b[0;31m ax = results.groupby(\"dataset_size\").mean().plot(title=\"Learning curve for Decision Tree\",\n\u001b[0m\u001b[1;32m      6\u001b[0m                                             \u001b[0mlinewidth\u001b[0m\u001b[0;34m=\u001b[0m\u001b[0;36m4\u001b[0m\u001b[0;34m,\u001b[0m\u001b[0;34m\u001b[0m\u001b[0;34m\u001b[0m\u001b[0m\n\u001b[1;32m      7\u001b[0m                                             \u001b[0mfigsize\u001b[0m\u001b[0;34m=\u001b[0m\u001b[0;34m(\u001b[0m\u001b[0;36m9\u001b[0m\u001b[0;34m,\u001b[0m\u001b[0;36m5\u001b[0m\u001b[0;34m)\u001b[0m\u001b[0;34m,\u001b[0m\u001b[0;34m\u001b[0m\u001b[0;34m\u001b[0m\u001b[0m\n",
      "\u001b[0;32m~/anaconda3/lib/python3.7/site-packages/pandas/core/frame.py\u001b[0m in \u001b[0;36mgroupby\u001b[0;34m(self, by, axis, level, as_index, sort, group_keys, squeeze, observed)\u001b[0m\n\u001b[1;32m   5808\u001b[0m             \u001b[0mgroup_keys\u001b[0m\u001b[0;34m=\u001b[0m\u001b[0mgroup_keys\u001b[0m\u001b[0;34m,\u001b[0m\u001b[0;34m\u001b[0m\u001b[0;34m\u001b[0m\u001b[0m\n\u001b[1;32m   5809\u001b[0m             \u001b[0msqueeze\u001b[0m\u001b[0;34m=\u001b[0m\u001b[0msqueeze\u001b[0m\u001b[0;34m,\u001b[0m\u001b[0;34m\u001b[0m\u001b[0;34m\u001b[0m\u001b[0m\n\u001b[0;32m-> 5810\u001b[0;31m             \u001b[0mobserved\u001b[0m\u001b[0;34m=\u001b[0m\u001b[0mobserved\u001b[0m\u001b[0;34m,\u001b[0m\u001b[0;34m\u001b[0m\u001b[0;34m\u001b[0m\u001b[0m\n\u001b[0m\u001b[1;32m   5811\u001b[0m         )\n\u001b[1;32m   5812\u001b[0m \u001b[0;34m\u001b[0m\u001b[0m\n",
      "\u001b[0;32m~/anaconda3/lib/python3.7/site-packages/pandas/core/groupby/groupby.py\u001b[0m in \u001b[0;36m__init__\u001b[0;34m(self, obj, keys, axis, level, grouper, exclusions, selection, as_index, sort, group_keys, squeeze, observed, mutated)\u001b[0m\n\u001b[1;32m    407\u001b[0m                 \u001b[0msort\u001b[0m\u001b[0;34m=\u001b[0m\u001b[0msort\u001b[0m\u001b[0;34m,\u001b[0m\u001b[0;34m\u001b[0m\u001b[0;34m\u001b[0m\u001b[0m\n\u001b[1;32m    408\u001b[0m                 \u001b[0mobserved\u001b[0m\u001b[0;34m=\u001b[0m\u001b[0mobserved\u001b[0m\u001b[0;34m,\u001b[0m\u001b[0;34m\u001b[0m\u001b[0;34m\u001b[0m\u001b[0m\n\u001b[0;32m--> 409\u001b[0;31m                 \u001b[0mmutated\u001b[0m\u001b[0;34m=\u001b[0m\u001b[0mself\u001b[0m\u001b[0;34m.\u001b[0m\u001b[0mmutated\u001b[0m\u001b[0;34m,\u001b[0m\u001b[0;34m\u001b[0m\u001b[0;34m\u001b[0m\u001b[0m\n\u001b[0m\u001b[1;32m    410\u001b[0m             )\n\u001b[1;32m    411\u001b[0m \u001b[0;34m\u001b[0m\u001b[0m\n",
      "\u001b[0;32m~/anaconda3/lib/python3.7/site-packages/pandas/core/groupby/grouper.py\u001b[0m in \u001b[0;36mget_grouper\u001b[0;34m(obj, key, axis, level, sort, observed, mutated, validate)\u001b[0m\n\u001b[1;32m    596\u001b[0m                 \u001b[0min_axis\u001b[0m\u001b[0;34m,\u001b[0m \u001b[0mname\u001b[0m\u001b[0;34m,\u001b[0m \u001b[0mlevel\u001b[0m\u001b[0;34m,\u001b[0m \u001b[0mgpr\u001b[0m \u001b[0;34m=\u001b[0m \u001b[0;32mFalse\u001b[0m\u001b[0;34m,\u001b[0m \u001b[0;32mNone\u001b[0m\u001b[0;34m,\u001b[0m \u001b[0mgpr\u001b[0m\u001b[0;34m,\u001b[0m \u001b[0;32mNone\u001b[0m\u001b[0;34m\u001b[0m\u001b[0;34m\u001b[0m\u001b[0m\n\u001b[1;32m    597\u001b[0m             \u001b[0;32melse\u001b[0m\u001b[0;34m:\u001b[0m\u001b[0;34m\u001b[0m\u001b[0;34m\u001b[0m\u001b[0m\n\u001b[0;32m--> 598\u001b[0;31m                 \u001b[0;32mraise\u001b[0m \u001b[0mKeyError\u001b[0m\u001b[0;34m(\u001b[0m\u001b[0mgpr\u001b[0m\u001b[0;34m)\u001b[0m\u001b[0;34m\u001b[0m\u001b[0;34m\u001b[0m\u001b[0m\n\u001b[0m\u001b[1;32m    599\u001b[0m         \u001b[0;32melif\u001b[0m \u001b[0misinstance\u001b[0m\u001b[0;34m(\u001b[0m\u001b[0mgpr\u001b[0m\u001b[0;34m,\u001b[0m \u001b[0mGrouper\u001b[0m\u001b[0;34m)\u001b[0m \u001b[0;32mand\u001b[0m \u001b[0mgpr\u001b[0m\u001b[0;34m.\u001b[0m\u001b[0mkey\u001b[0m \u001b[0;32mis\u001b[0m \u001b[0;32mnot\u001b[0m \u001b[0;32mNone\u001b[0m\u001b[0;34m:\u001b[0m\u001b[0;34m\u001b[0m\u001b[0;34m\u001b[0m\u001b[0m\n\u001b[1;32m    600\u001b[0m             \u001b[0;31m# Add key to exclusions\u001b[0m\u001b[0;34m\u001b[0m\u001b[0;34m\u001b[0m\u001b[0;34m\u001b[0m\u001b[0m\n",
      "\u001b[0;31mKeyError\u001b[0m: 'dataset_size'"
     ]
    }
   ],
   "source": [
    "# Concatenate all measurements\n",
    "results = pd.concat(all_frames)\n",
    "\n",
    "# Aggregate and plot\n",
    "ax = results.groupby(\"dataset_size\").mean().plot(title=\"Learning curve for Decision Tree\",\n",
    "                                            linewidth=4,\n",
    "                                            figsize=(9,5), \n",
    "                                            rot=0, \n",
    "                                            colormap=\"Set1\",\n",
    "                                            ylim=(0.8, 1))\n",
    "# Save\n",
    "fig = ax.get_figure()\n",
    "fig.savefig(f\"images/learning-curve.png\")"
   ]
  },
  {
   "cell_type": "markdown",
   "metadata": {},
   "source": [
    "## Fitting Graph"
   ]
  },
  {
   "cell_type": "code",
   "execution_count": 29,
   "metadata": {},
   "outputs": [
    {
     "data": {
      "text/plain": [
       "37"
      ]
     },
     "execution_count": 29,
     "metadata": {},
     "output_type": "execute_result"
    },
    {
     "data": {
      "text/plain": [
       "array([ 1,  5,  3, 13,  7, 11, -1,  9, -1, 15, 21, 33, 17, -1, 19, -1, -1,\n",
       "       -1, -1, -1, -1, 23, 25, -1, -1, -1, 27, 29, -1, 31, -1, -1, -1, -1,\n",
       "       35, -1, -1])"
      ]
     },
     "execution_count": 29,
     "metadata": {},
     "output_type": "execute_result"
    },
    {
     "data": {
      "text/plain": [
       "array([ 2,  6,  4, 14,  8, 12, -1, 10, -1, 16, 22, 34, 18, -1, 20, -1, -1,\n",
       "       -1, -1, -1, -1, 24, 26, -1, -1, -1, 28, 30, -1, 32, -1, -1, -1, -1,\n",
       "       36, -1, -1])"
      ]
     },
     "execution_count": 29,
     "metadata": {},
     "output_type": "execute_result"
    },
    {
     "data": {
      "text/plain": [
       "array([ 1,  5,  2,  5,  1,  0, -2,  5, -2,  3,  0,  5,  2, -2,  0, -2, -2,\n",
       "       -2, -2, -2, -2,  5,  3, -2, -2, -2,  3,  8, -2,  4, -2, -2, -2, -2,\n",
       "        4, -2, -2])"
      ]
     },
     "execution_count": 29,
     "metadata": {},
     "output_type": "execute_result"
    },
    {
     "data": {
      "text/plain": [
       "array([ 2.5,  5.5,  2.5,  3.5,  4.5,  6.5, -2. ,  2.5, -2. ,  3.5,  4.5,\n",
       "        4.5,  2.5, -2. ,  4.5, -2. , -2. , -2. , -2. , -2. , -2. ,  6.5,\n",
       "        4.5, -2. , -2. , -2. ,  5.5,  1.5, -2. ,  5.5, -2. , -2. , -2. ,\n",
       "       -2. ,  1.5, -2. , -2. ])"
      ]
     },
     "execution_count": 29,
     "metadata": {},
     "output_type": "execute_result"
    }
   ],
   "source": [
    "fitted_estimator.tree_.node_count\n",
    "fitted_estimator.tree_.children_left\n",
    "fitted_estimator.tree_.children_right\n",
    "fitted_estimator.tree_.feature\n",
    "fitted_estimator.tree_.threshold"
   ]
  },
  {
   "cell_type": "code",
   "execution_count": 22,
   "metadata": {},
   "outputs": [],
   "source": [
    "max_features = range(1,len(features))\n",
    "max_leaf_nodes = range(3,30)\n",
    "\n",
    "all_frames = []\n",
    "\n",
    "for iteration in range(100):\n",
    "    \n",
    "    # split dataset into training and testing\n",
    "    # random_state is the seed of the random geenrator, we don't set it to get reproducible results\n",
    "    X_train, X_test, y_train, y_test = train_test_split(X, y, test_size=0.25)\n",
    "\n",
    "    scores_training = []\n",
    "    scores_testing = []\n",
    "\n",
    "    for lf in max_leaf_nodes:\n",
    "        \n",
    "        # Instantiate mdoel from its scikit learn class\n",
    "        estimator = tree.DecisionTreeClassifier(criterion=\"gini\", max_leaf_nodes=lf, random_state=0)\n",
    "\n",
    "        # Induce the model\n",
    "        fitted_estimator = estimator.fit(X_train, y_train)\n",
    "\n",
    "        # Induce model with k-fold cross-validation (with k=10)\n",
    "        accuracies = cross_val_score(fitted_estimator, X_train, y_train, cv=3, scoring=None)\n",
    "        \n",
    "        # Average training score\n",
    "        avg_training_score = np.mean(accuracies)\n",
    "        \n",
    "        # Testing score\n",
    "        testing_score = estimator.score(X_test, y_test, sample_weight=None)\n",
    "    \n",
    "        scores_training.append(avg_training_score)\n",
    "        scores_testing.append(testing_score)\n",
    "        \n",
    "    # Save score to frame\n",
    "    this_frame = pd.DataFrame()\n",
    "    this_frame[\"max_leaf_nodes\"] = max_leaf_nodes\n",
    "    this_frame[\"scores_training\"] = scores_training\n",
    "    this_frame[\"scores_testing\"] = scores_testing\n",
    "    all_frames.append(this_frame)"
   ]
  },
  {
   "cell_type": "code",
   "execution_count": 23,
   "metadata": {},
   "outputs": [
    {
     "data": {
      "image/png": "[encoded data removed]",
      "text/plain": [
       "<Figure size 900x500 with 1 Axes>"
      ]
     },
     "metadata": {
      "image/png": {
       "height": 484,
       "width": 770
      }
     },
     "output_type": "display_data"
    }
   ],
   "source": [
    "# Combine all measurements\n",
    "to_plot = pd.concat(all_frames)\n",
    "\n",
    "# Aggregate and plot\n",
    "ax = to_plot.groupby(\"max_leaf_nodes\").mean().plot(title=\"Decision Tree Fitting Graph\",\n",
    "                                            linewidth=4, \n",
    "                                            figsize=(9,5), \n",
    "                                            rot=0, \n",
    "                                            colormap=\"Set2\",\n",
    "                                            ylim=(0.9, 1),\n",
    "                                            )\n",
    "# Save\n",
    "fig = ax.get_figure()\n",
    "fig.savefig(f\"images/fitting-graph.png\")"
   ]
  },
  {
   "cell_type": "markdown",
   "metadata": {},
   "source": [
    "## Validation Curves"
   ]
  },
  {
   "cell_type": "code",
   "execution_count": null,
   "metadata": {},
   "outputs": [],
   "source": [
    "import matplotlib.pyplot as plt\n",
    "import numpy as np\n",
    "\n",
    "from sklearn.datasets import load_digits\n",
    "from sklearn.svm import SVC\n",
    "from sklearn.model_selection import validation_curve"
   ]
  },
  {
   "cell_type": "code",
   "execution_count": null,
   "metadata": {},
   "outputs": [],
   "source": [
    "X, y = load_digits(return_X_y=True)\n",
    "X.shape"
   ]
  },
  {
   "cell_type": "code",
   "execution_count": null,
   "metadata": {},
   "outputs": [],
   "source": [
    "X, y = load_digits(return_X_y=True)\n",
    "\n",
    "param_range = np.logspace(-6, -1, 5)\n",
    "train_scores, test_scores = validation_curve(\n",
    "    SVC(), X, y, param_name=\"gamma\", param_range=param_range,\n",
    "    scoring=\"accuracy\", n_jobs=1)\n",
    "train_scores_mean = np.mean(train_scores, axis=1)\n",
    "train_scores_std = np.std(train_scores, axis=1)\n",
    "test_scores_mean = np.mean(test_scores, axis=1)\n",
    "test_scores_std = np.std(test_scores, axis=1)\n",
    "\n",
    "plt.title(\"Validation Curve with SVM\")\n",
    "plt.xlabel(r\"$\\gamma$\")\n",
    "plt.ylabel(\"Score\")\n",
    "plt.ylim(0.0, 1.1)\n",
    "lw = 2\n",
    "plt.semilogx(param_range, train_scores_mean, label=\"Training score\",\n",
    "             color=\"darkorange\", lw=lw)\n",
    "plt.fill_between(param_range, train_scores_mean - train_scores_std,\n",
    "                 train_scores_mean + train_scores_std, alpha=0.2,\n",
    "                 color=\"darkorange\", lw=lw)\n",
    "plt.semilogx(param_range, test_scores_mean, label=\"Cross-validation score\",\n",
    "             color=\"navy\", lw=lw)\n",
    "plt.fill_between(param_range, test_scores_mean - test_scores_std,\n",
    "                 test_scores_mean + test_scores_std, alpha=0.2,\n",
    "                 color=\"navy\", lw=lw)\n",
    "plt.legend(loc=\"best\")\n",
    "plt.show()"
   ]
  },
  {
   "cell_type": "code",
   "execution_count": null,
   "metadata": {},
   "outputs": [],
   "source": []
  },
  {
   "cell_type": "code",
   "execution_count": null,
   "metadata": {},
   "outputs": [],
   "source": []
  }
 ],
 "metadata": {
  "kernelspec": {
   "display_name": "Python 3",
   "language": "python",
   "name": "python3"
  },
  "language_info": {
   "codemirror_mode": {
    "name": "ipython",
    "version": 3
   },
   "file_extension": ".py",
   "mimetype": "text/x-python",
   "name": "python",
   "nbconvert_exporter": "python",
   "pygments_lexer": "ipython3",
   "version": "3.7.7"
  }
 },
 "nbformat": 4,
 "nbformat_minor": 4
}
